{
 "cells": [
  {
   "cell_type": "markdown",
   "metadata": {},
   "source": [
    "# Sentiment Analysis on Reddit News Headlines with Python’s Natural Language Toolkit (NLTK)"
   ]
  },
  {
   "cell_type": "code",
   "execution_count": 1,
   "metadata": {},
   "outputs": [],
   "source": [
    "from IPython import display\n",
    "import math\n",
    "from pprint import pprint\n",
    "import pandas as pd\n",
    "import numpy as np\n",
    "import nltk\n",
    "import matplotlib.pyplot as plt\n",
    "import seaborn as sns\n",
    "import openpyxl\n",
    "import regex as re\n",
    "import xlsxwriter\n",
    "from itertools import islice\n",
    "sns.set(style='darkgrid', context='talk', palette='Dark2')"
   ]
  },
  {
   "cell_type": "code",
   "execution_count": 23,
   "metadata": {
    "tags": []
   },
   "outputs": [],
   "source": [
    "# Setup Reddit API:\n",
    "client_id = \"\" #TODO: enter your custom Reddit API user\n",
    "client_secret = \"\" #TODO: enter your custom Reddit API user\n",
    "username = \"\" #TODO: enter your custom Reddit API user\n",
    "\n",
    "subreddit_name = \"GTAIV\" # Subreddit (example: \"GTAV\")\n",
    "bad_keywords = \"meme\", \"gta v\", \"gta 6\", \"gta 5\", \"gta vi\", \"leak\", \"video\", \"cheats\", \"mod\", \"mods\", \"sound\" # blacklisted words to filter topics containing these\n",
    "main_topic = [\"graphics\", \"vfx\", \"sfx\", \"video settings\", \"video quality\", \"realistic graphics\", \"fps\", \"performance\"] # keywords to search\n",
    "max_topics = 100 # in result dataframe"
   ]
  },
  {
   "cell_type": "code",
   "execution_count": 5,
   "metadata": {},
   "outputs": [],
   "source": [
    "import praw\n",
    "\n",
    "reddit = praw.Reddit(client_id=client_id,\n",
    "                     client_secret=client_secret,\n",
    "                     user_agent=username)"
   ]
  },
  {
   "cell_type": "code",
   "execution_count": 9,
   "metadata": {},
   "outputs": [
    {
     "name": "stdout",
     "output_type": "stream",
     "text": [
      "Parsed: 242 posts\n"
     ]
    }
   ],
   "source": [
    "headlines = set()\n",
    "topicIDs = []\n",
    "\n",
    "filtered_topics = 0\n",
    "parsed_topics = 0\n",
    "\n",
    "def parse_topics():\n",
    "    acc = 0\n",
    "    for topic in main_topic:\n",
    "        query = reddit.subreddit(subreddit_name).search(topic)\n",
    "        for submission in query:\n",
    "            bad_title = any(x in submission.title.lower() for x in bad_keywords)\n",
    "            skip_submission = len(submission.title) > 255 or bad_title # skip posts with too long submissions\n",
    "            if skip_submission:\n",
    "                continue\n",
    "            topicIDs.append(submission)\n",
    "            acc = acc + 1\n",
    "            # if acc == max_comments_pers_post:\n",
    "            #     break\n",
    "    return acc\n",
    "        \n",
    "parsed_topics = parse_topics()\n",
    "    \n",
    "print(\"Parsed: \"+str(len(topicIDs))+\" posts\")"
   ]
  },
  {
   "cell_type": "code",
   "execution_count": 10,
   "metadata": {},
   "outputs": [],
   "source": [
    "from nltk.sentiment.vader import SentimentIntensityAnalyzer as SIA\n",
    "\n",
    "sia = SIA()\n",
    "results = {}\n",
    "for topic in topicIDs:\n",
    "    \n",
    "    #print(\"parsed: \"+str(topic)+\"; Title: \"+topic.title)\n",
    "    results[topic.title] = []\n",
    "    for comment in topic.comments.list():\n",
    "        if not hasattr(comment, 'body'):\n",
    "            continue\n",
    "        pol_score = sia.polarity_scores(comment.body)\n",
    "        pol_score['headline'] = comment.body\n",
    "        pol_score['topic'] = topic.title\n",
    "        results[topic.title].append(pol_score)\n",
    "        \n",
    "# trim dictionary\n",
    "size_of_directory = max_topics * len(main_topic)\n",
    "\n",
    "results = {k: results[k] for k in list(results.keys())[:size_of_directory]}\n",
    "for topic in results:\n",
    "    semantics = results[topic]\n",
    "    \n",
    "print(\"All comments were collected!\")"
   ]
  },
  {
   "cell_type": "code",
   "execution_count": 11,
   "metadata": {},
   "outputs": [],
   "source": [
    "dataframes = {}\n",
    "backup = {}\n",
    "for topic in results:\n",
    "    dataframes[topic] = pd.DataFrame.from_records(results[topic])\n",
    "    backup[topic] = pd.DataFrame.from_records(results[topic])"
   ]
  },
  {
   "cell_type": "code",
   "execution_count": 12,
   "metadata": {},
   "outputs": [],
   "source": [
    "compound_limit = 0.35\n",
    "for topic in results:\n",
    "    if \"compound\" not in dataframes[topic]:\n",
    "        continue\n",
    "    dataframes[topic]['label'] = 0\n",
    "    dataframes[topic].loc[dataframes[topic][\"compound\"] > compound_limit, 'label'] = 1\n",
    "    dataframes[topic].loc[dataframes[topic][\"compound\"] < -compound_limit, 'label'] = -1\n",
    "    dataframes[topic] = dataframes[topic].drop(['pos', 'neg', 'neu', 'compound'], axis=1)\n",
    "    dataframes[topic]['avg'] = (dataframes[topic].label.value_counts(normalize=True) * 100)\n",
    "    #print(\"Successfully processed topic: \" + topic)"
   ]
  },
  {
   "cell_type": "code",
   "execution_count": 18,
   "metadata": {},
   "outputs": [
    {
     "name": "stdout",
     "output_type": "stream",
     "text": [
      "Subreddit: 'GTAIV'\n",
      "Search query keywords: '['graphics', 'vfx', 'sfx', 'video settings', 'video quality', 'realistic graphics', 'fps', 'performance']'\n",
      "Search query blackwords: '('meme', 'gta v', 'gta 6', 'gta 5', 'gta vi', 'leak', 'video', 'cheats', 'mod', 'mods', 'sound')'\n",
      "Compound limit: 0.35\n",
      "Parsed topics: 242\n",
      "Amount of topics after blackwords filtering: 207\n",
      "neu: 758\n",
      "neg: 207\n",
      "pos: 612\n",
      "\n",
      "Positive/negative ratio:\n",
      "neg_perc: 0.25274725274725274\n",
      "pos_perc: 0.7472527472527473\n",
      "\n",
      "-1    0.252747\n",
      " 1    0.747253\n",
      "dtype: float64\n"
     ]
    },
    {
     "data": {
      "image/png": "[encoded data removed]",
      "text/plain": [
       "<Figure size 800x800 with 1 Axes>"
      ]
     },
     "metadata": {},
     "output_type": "display_data"
    }
   ],
   "source": [
    "neu = 0\n",
    "neg = 0\n",
    "pos = 0\n",
    "for topic in results:\n",
    "    \n",
    "    if dataframes[topic].empty:\n",
    "        continue\n",
    "    if 0 in dataframes[topic].label.value_counts():\n",
    "        neu = neu + dataframes[topic].label.value_counts()[0]\n",
    "        \n",
    "    if -1 in dataframes[topic].label.value_counts():\n",
    "        neg = neg + dataframes[topic].label.value_counts()[-1]\n",
    "        \n",
    "    if 1 in dataframes[topic].label.value_counts():\n",
    "        pos = pos + dataframes[topic].label.value_counts()[1]\n",
    "    \n",
    "print(\"Subreddit: '\"+subreddit_name+\"'\")\n",
    "print(\"Search query keywords: '\"+str(main_topic)+\"'\")\n",
    "print(\"Search query blackwords: '\"+str(bad_keywords)+\"'\")\n",
    "print(\"Compound limit: \"+str(compound_limit))\n",
    "print(\"Parsed topics: \"+str(parsed_topics))\n",
    "print(\"Amount of topics after blackwords filtering: \"+str(len(results)))\n",
    "summa = pos + neg\n",
    "ser = pd.Series(data={1: pos/summa, -1: neg/summa}, index=[-1, 1])\n",
    "print(\"neu: \" + str(neu))\n",
    "print(\"neg: \" + str(neg))\n",
    "print(\"pos: \" + str(pos)+\"\\n\")\n",
    "print(\"Positive/negative ratio:\")\n",
    "print(\"neg_perc: \" + str(neg/summa))\n",
    "print(\"pos_perc: \" + str(pos/summa))\n",
    "print()\n",
    "print(ser)\n",
    "fig, ax = plt.subplots(figsize=(8, 8))\n",
    "\n",
    "sns.barplot(x=ser.index, y=ser, ax=ax)\n",
    "\n",
    "ax.set_xticklabels(['Negative', 'Positive'])\n",
    "ax.set_ylabel(\"Percentage\")\n",
    "\n",
    "plt.show()"
   ]
  },
  {
   "cell_type": "code",
   "execution_count": 19,
   "metadata": {},
   "outputs": [],
   "source": [
    "from nltk.tokenize import word_tokenize, RegexpTokenizer\n",
    "from nltk.corpus import stopwords\n",
    "\n",
    "tokenizer = RegexpTokenizer(r'\\w+')\n",
    "stop_words = stopwords.words('english')\n",
    "\n",
    "def process_text(headlines):\n",
    "    tokens = []\n",
    "    for s in headlines:\n",
    "        for line in s:\n",
    "            # print(line)\n",
    "            line = str(line.lower())\n",
    "            toks = tokenizer.tokenize(line)\n",
    "            toks = [t for t in toks if t not in stop_words]\n",
    "            tokens.extend(toks)\n",
    "    \n",
    "    return tokens"
   ]
  },
  {
   "cell_type": "code",
   "execution_count": 20,
   "metadata": {},
   "outputs": [
    {
     "name": "stdout",
     "output_type": "stream",
     "text": [
      "207\n"
     ]
    }
   ],
   "source": [
    "print(len(dataframes))"
   ]
  },
  {
   "cell_type": "code",
   "execution_count": 21,
   "metadata": {},
   "outputs": [
    {
     "data": {
      "text/plain": [
       "[('fps', 98),\n",
       " ('pc', 88),\n",
       " ('play', 84),\n",
       " ('good', 79),\n",
       " ('performance', 65),\n",
       " ('time', 60),\n",
       " ('people', 59),\n",
       " ('games', 56),\n",
       " ('think', 54),\n",
       " ('try', 54),\n",
       " ('graphics', 53),\n",
       " ('know', 53),\n",
       " ('dxvk', 51),\n",
       " ('see', 50),\n",
       " ('use', 50),\n",
       " ('way', 49),\n",
       " ('version', 49),\n",
       " ('settings', 46),\n",
       " ('mods', 45),\n",
       " ('run', 44)]"
      ]
     },
     "execution_count": 21,
     "metadata": {},
     "output_type": "execute_result"
    }
   ],
   "source": [
    "pos_lines = []\n",
    "\n",
    "for topic in results:\n",
    "    if dataframes[topic].empty:\n",
    "        continue\n",
    "    pos_lines.append(dataframes[topic][dataframes[topic].label == 1][\"headline\"])\n",
    "\n",
    "pos_tokens = process_text(pos_lines)\n",
    "\n",
    "# in case we need to filter out some nonsense words\n",
    "blacklist = \"0\", \"better\", \"4\", \"1\", \"really\", \"much\", \"com\", \"even\", \"well\", \"still\", \"thanks\", \"also\", \"https\",\"iv\", \"would\", \"best\", \"get\", \"one\", \"gta\", \"like\", \"game\", \"v\"\n",
    "\n",
    "def conds(x):\n",
    "    if x in blacklist:\n",
    "        return 0\n",
    "    return 1\n",
    "new_list = list(filter(lambda x: conds(x), pos_tokens))\n",
    "\n",
    "pos_freq = nltk.FreqDist(new_list)\n",
    "pos_freq.most_common(20)"
   ]
  },
  {
   "cell_type": "code",
   "execution_count": 22,
   "metadata": {},
   "outputs": [
    {
     "data": {
      "text/plain": [
       "[('fps', 35),\n",
       " ('problem', 30),\n",
       " ('pc', 21),\n",
       " ('try', 21),\n",
       " ('bad', 19),\n",
       " ('time', 17),\n",
       " ('fix', 17),\n",
       " ('settings', 17),\n",
       " ('good', 16),\n",
       " ('got', 16),\n",
       " ('missions', 15),\n",
       " ('version', 15),\n",
       " ('fuck', 15),\n",
       " ('way', 15),\n",
       " ('steam', 15),\n",
       " ('high', 15),\n",
       " ('sure', 14),\n",
       " ('shit', 14),\n",
       " ('old', 14),\n",
       " ('make', 13)]"
      ]
     },
     "execution_count": 22,
     "metadata": {},
     "output_type": "execute_result"
    }
   ],
   "source": [
    "neg_lines = []\n",
    "for topic in results:\n",
    "    if dataframes[topic].empty:\n",
    "        continue\n",
    "    neg_lines.append(dataframes[topic][dataframes[topic].label == -1].headline)\n",
    "\n",
    "neg_tokens = process_text(neg_lines)\n",
    "\n",
    "# in case we need to filter out some nonsense words\n",
    "blacklist = \"0\", \"better\", \"4\", \"1\", \"really\", \"much\", \"com\", \"even\", \"well\", \"still\", \"thanks\", \"also\", \"https\",\"iv\", \"would\", \"best\", \"get\", \"one\", \"gta\", \"like\", \"game\", \"v\", \"2\", \"run\", \"know\", \"use\"\n",
    "\n",
    "def conds(x):\n",
    "    if x in blacklist:\n",
    "        return 0\n",
    "    return 1\n",
    "new_list = list(filter(lambda x: conds(x), neg_tokens))\n",
    "\n",
    "neg_freq = nltk.FreqDist(new_list)\n",
    "neg_freq.most_common(20)"
   ]
  }
 ],
 "metadata": {
  "kernelspec": {
   "display_name": "Python 3 (ipykernel)",
   "language": "python",
   "name": "python3"
  },
  "language_info": {
   "codemirror_mode": {
    "name": "ipython",
    "version": 3
   },
   "file_extension": ".py",
   "mimetype": "text/x-python",
   "name": "python",
   "nbconvert_exporter": "python",
   "pygments_lexer": "ipython3",
   "version": "3.11.0"
  }
 },
 "nbformat": 4,
 "nbformat_minor": 4
}
